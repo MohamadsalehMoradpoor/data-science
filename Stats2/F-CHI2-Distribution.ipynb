{
 "cells": [
  {
   "cell_type": "code",
   "execution_count": 5,
   "metadata": {},
   "outputs": [],
   "source": [
    "from scipy.stats import f\n",
    "import matplotlib.pyplot as plt"
   ]
  },
  {
   "cell_type": "code",
   "execution_count": 16,
   "metadata": {},
   "outputs": [],
   "source": [
    "data = f.rvs(30, 10, size=1000)"
   ]
  },
  {
   "cell_type": "code",
   "execution_count": 17,
   "metadata": {},
   "outputs": [
    {
     "data": {
      "text/plain": [
       "(array([0.01235946, 0.01235946, 0.18539185, 0.3460648 , 0.65505122,\n",
       "        0.58089448, 0.75392688, 0.77864579, 0.91459982, 0.84044308,\n",
       "        0.79100525, 0.75392688, 0.56853502, 0.56853502, 0.43258099,\n",
       "        0.49437828, 0.44494045, 0.43258099, 0.2595486 , 0.35842425,\n",
       "        0.3460648 , 0.12359457, 0.14831348, 0.14831348, 0.0865162 ,\n",
       "        0.11123511, 0.11123511, 0.12359457, 0.07415674, 0.04943783,\n",
       "        0.16067294, 0.09887566, 0.04943783, 0.04943783, 0.02471891,\n",
       "        0.02471891, 0.02471891, 0.02471891, 0.03707837, 0.03707837,\n",
       "        0.03707837, 0.04943783, 0.02471891, 0.01235946, 0.01235946,\n",
       "        0.02471891, 0.02471891, 0.        , 0.        , 0.        ,\n",
       "        0.        , 0.        , 0.01235946, 0.        , 0.01235946,\n",
       "        0.01235946, 0.03707837, 0.        , 0.01235946, 0.        ,\n",
       "        0.        , 0.        , 0.        , 0.01235946, 0.        ,\n",
       "        0.01235946, 0.        , 0.        , 0.        , 0.        ,\n",
       "        0.        , 0.        , 0.        , 0.        , 0.        ,\n",
       "        0.        , 0.        , 0.        , 0.        , 0.        ,\n",
       "        0.        , 0.        , 0.        , 0.01235946, 0.        ,\n",
       "        0.        , 0.        , 0.        , 0.        , 0.        ,\n",
       "        0.        , 0.        , 0.        , 0.        , 0.        ,\n",
       "        0.        , 0.        , 0.        , 0.        , 0.01235946]),\n",
       " array([0.13820413, 0.21911383, 0.30002354, 0.38093324, 0.46184294,\n",
       "        0.54275265, 0.62366235, 0.70457206, 0.78548176, 0.86639146,\n",
       "        0.94730117, 1.02821087, 1.10912057, 1.19003028, 1.27093998,\n",
       "        1.35184968, 1.43275939, 1.51366909, 1.59457879, 1.6754885 ,\n",
       "        1.7563982 , 1.8373079 , 1.91821761, 1.99912731, 2.08003701,\n",
       "        2.16094672, 2.24185642, 2.32276612, 2.40367583, 2.48458553,\n",
       "        2.56549523, 2.64640494, 2.72731464, 2.80822434, 2.88913405,\n",
       "        2.97004375, 3.05095345, 3.13186316, 3.21277286, 3.29368256,\n",
       "        3.37459227, 3.45550197, 3.53641167, 3.61732138, 3.69823108,\n",
       "        3.77914078, 3.86005049, 3.94096019, 4.0218699 , 4.1027796 ,\n",
       "        4.1836893 , 4.26459901, 4.34550871, 4.42641841, 4.50732812,\n",
       "        4.58823782, 4.66914752, 4.75005723, 4.83096693, 4.91187663,\n",
       "        4.99278634, 5.07369604, 5.15460574, 5.23551545, 5.31642515,\n",
       "        5.39733485, 5.47824456, 5.55915426, 5.64006396, 5.72097367,\n",
       "        5.80188337, 5.88279307, 5.96370278, 6.04461248, 6.12552218,\n",
       "        6.20643189, 6.28734159, 6.36825129, 6.449161  , 6.5300707 ,\n",
       "        6.6109804 , 6.69189011, 6.77279981, 6.85370951, 6.93461922,\n",
       "        7.01552892, 7.09643862, 7.17734833, 7.25825803, 7.33916773,\n",
       "        7.42007744, 7.50098714, 7.58189685, 7.66280655, 7.74371625,\n",
       "        7.82462596, 7.90553566, 7.98644536, 8.06735507, 8.14826477,\n",
       "        8.22917447]),\n",
       " <BarContainer object of 100 artists>)"
      ]
     },
     "execution_count": 17,
     "metadata": {},
     "output_type": "execute_result"
    },
    {
     "data": {
      "image/png": "[encoded data removed]",
      "text/plain": [
       "<Figure size 432x288 with 1 Axes>"
      ]
     },
     "metadata": {
      "needs_background": "light"
     },
     "output_type": "display_data"
    }
   ],
   "source": [
    "plt.hist(data, bins=100, density=True)"
   ]
  },
  {
   "cell_type": "code",
   "execution_count": 7,
   "metadata": {},
   "outputs": [],
   "source": [
    "from scipy.stats import chi2"
   ]
  },
  {
   "cell_type": "code",
   "execution_count": 18,
   "metadata": {},
   "outputs": [],
   "source": [
    "data = chi2.rvs(100, size=10000)"
   ]
  },
  {
   "cell_type": "code",
   "execution_count": 19,
   "metadata": {},
   "outputs": [
    {
     "data": {
      "text/plain": [
       "(array([  1.,   1.,   0.,   0.,   0.,   1.,   1.,   2.,   0.,   4.,   5.,\n",
       "          9.,  12.,   9.,  19.,  21.,  22.,  39.,  36.,  46.,  52.,  54.,\n",
       "         74.,  81., 108., 116., 134., 147., 166., 177., 221., 191., 242.,\n",
       "        233., 268., 280., 300., 291., 295., 311., 300., 338., 305., 296.,\n",
       "        307., 301., 311., 288., 268., 277., 234., 233., 230., 235., 183.,\n",
       "        200., 159., 153., 155., 166., 130., 114.,  92., 101.,  89.,  73.,\n",
       "         59.,  67.,  52.,  62.,  28.,  39.,  30.,  25.,  18.,  27.,  10.,\n",
       "          8.,  17.,  12.,   4.,   6.,   1.,   3.,   6.,   3.,   2.,   1.,\n",
       "          2.,   3.,   1.,   0.,   1.,   3.,   0.,   0.,   2.,   0.,   0.,\n",
       "          1.]),\n",
       " array([ 51.42928562,  52.5339201 ,  53.63855458,  54.74318906,\n",
       "         55.84782354,  56.95245802,  58.0570925 ,  59.16172698,\n",
       "         60.26636146,  61.37099594,  62.47563042,  63.5802649 ,\n",
       "         64.68489938,  65.78953386,  66.89416834,  67.99880282,\n",
       "         69.1034373 ,  70.20807178,  71.31270626,  72.41734074,\n",
       "         73.52197522,  74.6266097 ,  75.73124418,  76.83587866,\n",
       "         77.94051314,  79.04514762,  80.14978209,  81.25441657,\n",
       "         82.35905105,  83.46368553,  84.56832001,  85.67295449,\n",
       "         86.77758897,  87.88222345,  88.98685793,  90.09149241,\n",
       "         91.19612689,  92.30076137,  93.40539585,  94.51003033,\n",
       "         95.61466481,  96.71929929,  97.82393377,  98.92856825,\n",
       "        100.03320273, 101.13783721, 102.24247169, 103.34710617,\n",
       "        104.45174065, 105.55637513, 106.66100961, 107.76564409,\n",
       "        108.87027857, 109.97491305, 111.07954753, 112.18418201,\n",
       "        113.28881649, 114.39345097, 115.49808545, 116.60271993,\n",
       "        117.7073544 , 118.81198888, 119.91662336, 121.02125784,\n",
       "        122.12589232, 123.2305268 , 124.33516128, 125.43979576,\n",
       "        126.54443024, 127.64906472, 128.7536992 , 129.85833368,\n",
       "        130.96296816, 132.06760264, 133.17223712, 134.2768716 ,\n",
       "        135.38150608, 136.48614056, 137.59077504, 138.69540952,\n",
       "        139.800044  , 140.90467848, 142.00931296, 143.11394744,\n",
       "        144.21858192, 145.3232164 , 146.42785088, 147.53248536,\n",
       "        148.63711984, 149.74175432, 150.8463888 , 151.95102328,\n",
       "        153.05565776, 154.16029224, 155.26492672, 156.36956119,\n",
       "        157.47419567, 158.57883015, 159.68346463, 160.78809911,\n",
       "        161.89273359]),\n",
       " <BarContainer object of 100 artists>)"
      ]
     },
     "execution_count": 19,
     "metadata": {},
     "output_type": "execute_result"
    },
    {
     "data": {
      "image/png": "[encoded data removed]",
      "text/plain": [
       "<Figure size 432x288 with 1 Axes>"
      ]
     },
     "metadata": {
      "needs_background": "light"
     },
     "output_type": "display_data"
    }
   ],
   "source": [
    "plt.hist(data, bins=100)"
   ]
  }
 ],
 "metadata": {
  "kernelspec": {
   "display_name": "Python 3",
   "language": "python",
   "name": "python3"
  },
  "language_info": {
   "codemirror_mode": {
    "name": "ipython",
    "version": 3
   },
   "file_extension": ".py",
   "mimetype": "text/x-python",
   "name": "python",
   "nbconvert_exporter": "python",
   "pygments_lexer": "ipython3",
   "version": "3.8.5"
  }
 },
 "nbformat": 4,
 "nbformat_minor": 4
}
