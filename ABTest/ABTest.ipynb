{
 "cells": [
  {
   "cell_type": "code",
   "execution_count": 50,
   "metadata": {},
   "outputs": [],
   "source": [
    "import numpy as np\n",
    "import pandas as pd\n",
    "import seaborn as sns"
   ]
  },
  {
   "cell_type": "code",
   "execution_count": 51,
   "metadata": {},
   "outputs": [],
   "source": [
    "a = np.array([23, 21, 19, 24, 35, 17, 18, 24, 33, 27, 21, 23])\n",
    "b = np.array([31, 28, 19, 24, 32, 27, 16, 41, 23, 32, 29, 33])"
   ]
  },
  {
   "cell_type": "code",
   "execution_count": 52,
   "metadata": {},
   "outputs": [
    {
     "data": {
      "text/plain": [
       "23.75"
      ]
     },
     "execution_count": 52,
     "metadata": {},
     "output_type": "execute_result"
    }
   ],
   "source": [
    "a.mean()"
   ]
  },
  {
   "cell_type": "code",
   "execution_count": 53,
   "metadata": {},
   "outputs": [
    {
     "data": {
      "text/plain": [
       "27.916666666666668"
      ]
     },
     "execution_count": 53,
     "metadata": {},
     "output_type": "execute_result"
    }
   ],
   "source": [
    "b.mean()"
   ]
  },
  {
   "cell_type": "code",
   "execution_count": 54,
   "metadata": {},
   "outputs": [
    {
     "data": {
      "text/plain": [
       "4.166666666666668"
      ]
     },
     "execution_count": 54,
     "metadata": {},
     "output_type": "execute_result"
    }
   ],
   "source": [
    "d = b.mean() - a.mean()\n",
    "d"
   ]
  },
  {
   "cell_type": "code",
   "execution_count": 55,
   "metadata": {},
   "outputs": [
    {
     "data": {
      "text/plain": [
       "array([0., 0., 0., 0., 0., 0., 0., 0., 0., 0., 0., 0.])"
      ]
     },
     "execution_count": 55,
     "metadata": {},
     "output_type": "execute_result"
    }
   ],
   "source": [
    "np.zeros(len(a))"
   ]
  },
  {
   "cell_type": "code",
   "execution_count": 56,
   "metadata": {},
   "outputs": [
    {
     "data": {
      "text/plain": [
       "array([1., 1., 1., 1., 1., 1., 1., 1., 1., 1., 1., 1.])"
      ]
     },
     "execution_count": 56,
     "metadata": {},
     "output_type": "execute_result"
    }
   ],
   "source": [
    "np.ones(len(b))"
   ]
  },
  {
   "cell_type": "code",
   "execution_count": 57,
   "metadata": {},
   "outputs": [
    {
     "data": {
      "text/plain": [
       "array([0., 0., 0., 0., 0., 0., 0., 0., 0., 0., 0., 0., 1., 1., 1., 1., 1.,\n",
       "       1., 1., 1., 1., 1., 1., 1.])"
      ]
     },
     "execution_count": 57,
     "metadata": {},
     "output_type": "execute_result"
    }
   ],
   "source": [
    "np.append(np.zeros(len(a)), np.ones(len(b)))"
   ]
  },
  {
   "cell_type": "code",
   "execution_count": 58,
   "metadata": {},
   "outputs": [],
   "source": [
    "sales = np.array([\n",
    "    np.append(np.zeros(len(a)), np.ones(len(b))),\n",
    "    np.append(a, b)\n",
    "])"
   ]
  },
  {
   "cell_type": "code",
   "execution_count": 59,
   "metadata": {},
   "outputs": [
    {
     "data": {
      "text/plain": [
       "array([[ 0.,  0.,  0.,  0.,  0.,  0.,  0.,  0.,  0.,  0.,  0.,  0.,  1.,\n",
       "         1.,  1.,  1.,  1.,  1.,  1.,  1.,  1.,  1.,  1.,  1.],\n",
       "       [23., 21., 19., 24., 35., 17., 18., 24., 33., 27., 21., 23., 31.,\n",
       "        28., 19., 24., 32., 27., 16., 41., 23., 32., 29., 33.]])"
      ]
     },
     "execution_count": 59,
     "metadata": {},
     "output_type": "execute_result"
    }
   ],
   "source": [
    "sales"
   ]
  },
  {
   "cell_type": "code",
   "execution_count": 60,
   "metadata": {},
   "outputs": [
    {
     "name": "stdout",
     "output_type": "stream",
     "text": [
      "[[ 0.  0.  0.  0.  0.  0.  0.  0.  0.  0.  0.  0.  1.  1.  1.  1.  1.  1.\n",
      "   1.  1.  1.  1.  1.  1.]\n",
      " [23. 21. 19. 24. 35. 17. 18. 24. 33. 27. 21. 23. 31. 28. 19. 24. 32. 27.\n",
      "  16. 41. 23. 32. 29. 33.]]\n"
     ]
    }
   ],
   "source": [
    "print(sales)"
   ]
  },
  {
   "cell_type": "code",
   "execution_count": 61,
   "metadata": {},
   "outputs": [
    {
     "data": {
      "text/plain": [
       "array([[ 0., 23.],\n",
       "       [ 0., 21.],\n",
       "       [ 0., 19.],\n",
       "       [ 0., 24.],\n",
       "       [ 0., 35.],\n",
       "       [ 0., 17.],\n",
       "       [ 0., 18.],\n",
       "       [ 0., 24.],\n",
       "       [ 0., 33.],\n",
       "       [ 0., 27.],\n",
       "       [ 0., 21.],\n",
       "       [ 0., 23.],\n",
       "       [ 1., 31.],\n",
       "       [ 1., 28.],\n",
       "       [ 1., 19.],\n",
       "       [ 1., 24.],\n",
       "       [ 1., 32.],\n",
       "       [ 1., 27.],\n",
       "       [ 1., 16.],\n",
       "       [ 1., 41.],\n",
       "       [ 1., 23.],\n",
       "       [ 1., 32.],\n",
       "       [ 1., 29.],\n",
       "       [ 1., 33.]])"
      ]
     },
     "execution_count": 61,
     "metadata": {},
     "output_type": "execute_result"
    }
   ],
   "source": [
    "sales_t = sales.T\n",
    "sales_t"
   ]
  },
  {
   "cell_type": "code",
   "execution_count": 62,
   "metadata": {},
   "outputs": [],
   "source": [
    "np.random.shuffle(sales_t)"
   ]
  },
  {
   "cell_type": "code",
   "execution_count": 63,
   "metadata": {},
   "outputs": [
    {
     "data": {
      "text/plain": [
       "array([[ 1., 16.],\n",
       "       [ 1., 28.],\n",
       "       [ 1., 33.],\n",
       "       [ 0., 24.],\n",
       "       [ 0., 27.],\n",
       "       [ 1., 19.],\n",
       "       [ 0., 21.],\n",
       "       [ 1., 32.],\n",
       "       [ 0., 21.],\n",
       "       [ 0., 24.],\n",
       "       [ 0., 23.],\n",
       "       [ 0., 19.],\n",
       "       [ 1., 41.],\n",
       "       [ 1., 32.],\n",
       "       [ 0., 18.],\n",
       "       [ 0., 23.],\n",
       "       [ 0., 17.],\n",
       "       [ 1., 31.],\n",
       "       [ 0., 35.],\n",
       "       [ 1., 29.],\n",
       "       [ 1., 23.],\n",
       "       [ 1., 24.],\n",
       "       [ 0., 33.],\n",
       "       [ 1., 27.]])"
      ]
     },
     "execution_count": 63,
     "metadata": {},
     "output_type": "execute_result"
    }
   ],
   "source": [
    "sales_t"
   ]
  },
  {
   "cell_type": "code",
   "execution_count": 64,
   "metadata": {},
   "outputs": [
    {
     "data": {
      "text/plain": [
       "array([1, 1, 1, 1, 0, 0, 1, 1, 0, 1, 1, 1, 0, 1, 1, 1, 1, 1, 0, 0, 1, 0,\n",
       "       1, 1])"
      ]
     },
     "execution_count": 64,
     "metadata": {},
     "output_type": "execute_result"
    }
   ],
   "source": [
    "experiment_label = np.random.randint(0, 2, len(sales_t))\n",
    "experiment_label"
   ]
  },
  {
   "cell_type": "code",
   "execution_count": 65,
   "metadata": {},
   "outputs": [],
   "source": [
    "experiment_data = np.array([\n",
    "    experiment_label,\n",
    "    sales_t[:, 1]\n",
    "])"
   ]
  },
  {
   "cell_type": "code",
   "execution_count": 66,
   "metadata": {},
   "outputs": [
    {
     "name": "stdout",
     "output_type": "stream",
     "text": [
      "[[ 1.  1.  1.  1.  0.  0.  1.  1.  0.  1.  1.  1.  0.  1.  1.  1.  1.  1.\n",
      "   0.  0.  1.  0.  1.  1.]\n",
      " [16. 28. 33. 24. 27. 19. 21. 32. 21. 24. 23. 19. 41. 32. 18. 23. 17. 31.\n",
      "  35. 29. 23. 24. 33. 27.]]\n"
     ]
    }
   ],
   "source": [
    "print(experiment_data)"
   ]
  },
  {
   "cell_type": "code",
   "execution_count": 67,
   "metadata": {},
   "outputs": [
    {
     "data": {
      "text/plain": [
       "array([[ 1., 16.],\n",
       "       [ 1., 28.],\n",
       "       [ 1., 33.],\n",
       "       [ 1., 24.],\n",
       "       [ 0., 27.],\n",
       "       [ 0., 19.],\n",
       "       [ 1., 21.],\n",
       "       [ 1., 32.],\n",
       "       [ 0., 21.],\n",
       "       [ 1., 24.],\n",
       "       [ 1., 23.],\n",
       "       [ 1., 19.],\n",
       "       [ 0., 41.],\n",
       "       [ 1., 32.],\n",
       "       [ 1., 18.],\n",
       "       [ 1., 23.],\n",
       "       [ 1., 17.],\n",
       "       [ 1., 31.],\n",
       "       [ 0., 35.],\n",
       "       [ 0., 29.],\n",
       "       [ 1., 23.],\n",
       "       [ 0., 24.],\n",
       "       [ 1., 33.],\n",
       "       [ 1., 27.]])"
      ]
     },
     "execution_count": 67,
     "metadata": {},
     "output_type": "execute_result"
    }
   ],
   "source": [
    "experiment_data_t = experiment_data.T\n",
    "experiment_data_t"
   ]
  },
  {
   "cell_type": "code",
   "execution_count": 68,
   "metadata": {},
   "outputs": [
    {
     "data": {
      "text/plain": [
       "array([[ 0., 27.],\n",
       "       [ 0., 19.],\n",
       "       [ 0., 21.],\n",
       "       [ 0., 41.],\n",
       "       [ 0., 35.],\n",
       "       [ 0., 29.],\n",
       "       [ 0., 24.]])"
      ]
     },
     "execution_count": 68,
     "metadata": {},
     "output_type": "execute_result"
    }
   ],
   "source": [
    "experiment_data_t[experiment_data_t[:, 0] == 0]"
   ]
  },
  {
   "cell_type": "code",
   "execution_count": 69,
   "metadata": {},
   "outputs": [
    {
     "data": {
      "text/plain": [
       "array([27., 19., 21., 41., 35., 29., 24.])"
      ]
     },
     "execution_count": 69,
     "metadata": {},
     "output_type": "execute_result"
    }
   ],
   "source": [
    "experiment_data_t[experiment_data_t[:, 0] == 0][:, 1]"
   ]
  },
  {
   "cell_type": "code",
   "execution_count": 70,
   "metadata": {},
   "outputs": [
    {
     "data": {
      "text/plain": [
       "28.0"
      ]
     },
     "execution_count": 70,
     "metadata": {},
     "output_type": "execute_result"
    }
   ],
   "source": [
    "experiment_data_t[experiment_data_t[:, 0] == 0][:, 1].mean()"
   ]
  },
  {
   "cell_type": "code",
   "execution_count": 71,
   "metadata": {},
   "outputs": [
    {
     "data": {
      "text/plain": [
       "24.941176470588236"
      ]
     },
     "execution_count": 71,
     "metadata": {},
     "output_type": "execute_result"
    }
   ],
   "source": [
    "experiment_data_t[experiment_data_t[:, 0] == 1][:, 1].mean()"
   ]
  },
  {
   "cell_type": "code",
   "execution_count": 72,
   "metadata": {},
   "outputs": [
    {
     "data": {
      "text/plain": [
       "array([[4.68366119e-310],\n",
       "       [0.00000000e+000],\n",
       "       [6.93454401e-310],\n",
       "       [2.27351516e+170],\n",
       "       [6.93454402e-310],\n",
       "       [6.93454401e-310],\n",
       "       [1.84815229e+111],\n",
       "       [6.93454402e-310],\n",
       "       [6.93454401e-310],\n",
       "       [1.35579775e-107]])"
      ]
     },
     "execution_count": 72,
     "metadata": {},
     "output_type": "execute_result"
    }
   ],
   "source": [
    "experiment_diff_mean = np.empty([10, 1])\n",
    "experiment_diff_mean"
   ]
  },
  {
   "cell_type": "code",
   "execution_count": 109,
   "metadata": {},
   "outputs": [],
   "source": [
    "def sh_exp(N):\n",
    "    experiment_diff_mean = np.empty([N, 1])\n",
    "    for times in np.arange(N):\n",
    "        experiment_label = np.random.randint(0, 2, len(sales_t))\n",
    "        experiment_data = np.array([\n",
    "            experiment_label,\n",
    "            sales_t[:, 1]\n",
    "        ]).T\n",
    "        experiment_diff_mean[times] = experiment_data[experiment_data[:, 0] == 1][:, 1].mean() - experiment_data[experiment_data[:, 0] == 0][:, 1].mean()\n",
    "    return experiment_diff_mean"
   ]
  },
  {
   "cell_type": "code",
   "execution_count": 118,
   "metadata": {},
   "outputs": [],
   "source": [
    "e1 = sh_exp(1000)"
   ]
  },
  {
   "cell_type": "code",
   "execution_count": 119,
   "metadata": {},
   "outputs": [
    {
     "data": {
      "text/plain": [
       "65"
      ]
     },
     "execution_count": 119,
     "metadata": {},
     "output_type": "execute_result"
    }
   ],
   "source": [
    "len(e1[e1 >= d])"
   ]
  },
  {
   "cell_type": "code",
   "execution_count": 121,
   "metadata": {},
   "outputs": [
    {
     "data": {
      "text/plain": [
       "0.065"
      ]
     },
     "execution_count": 121,
     "metadata": {},
     "output_type": "execute_result"
    }
   ],
   "source": [
    "len(e1[e1 >= d]) / 1000"
   ]
  },
  {
   "cell_type": "code",
   "execution_count": 113,
   "metadata": {},
   "outputs": [
    {
     "name": "stderr",
     "output_type": "stream",
     "text": [
      "/home/mosaleh/anaconda3/lib/python3.8/site-packages/seaborn/distributions.py:2551: FutureWarning: `distplot` is a deprecated function and will be removed in a future version. Please adapt your code to use either `displot` (a figure-level function with similar flexibility) or `histplot` (an axes-level function for histograms).\n",
      "  warnings.warn(msg, FutureWarning)\n"
     ]
    },
    {
     "data": {
      "text/plain": [
       "<AxesSubplot:ylabel='Density'>"
      ]
     },
     "execution_count": 113,
     "metadata": {},
     "output_type": "execute_result"
    },
    {
     "data": {
      "image/png": "[encoded data removed]",
      "text/plain": [
       "<Figure size 432x288 with 1 Axes>"
      ]
     },
     "metadata": {
      "needs_background": "light"
     },
     "output_type": "display_data"
    }
   ],
   "source": [
    "sns.distplot(e1, bins=100)"
   ]
  }
 ],
 "metadata": {
  "kernelspec": {
   "display_name": "Python 3",
   "language": "python",
   "name": "python3"
  },
  "language_info": {
   "codemirror_mode": {
    "name": "ipython",
    "version": 3
   },
   "file_extension": ".py",
   "mimetype": "text/x-python",
   "name": "python",
   "nbconvert_exporter": "python",
   "pygments_lexer": "ipython3",
   "version": "3.8.5"
  }
 },
 "nbformat": 4,
 "nbformat_minor": 4
}
