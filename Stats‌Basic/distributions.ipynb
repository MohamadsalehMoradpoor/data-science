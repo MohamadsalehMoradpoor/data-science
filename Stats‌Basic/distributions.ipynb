{
 "cells": [
  {
   "cell_type": "code",
   "execution_count": 1,
   "metadata": {},
   "outputs": [],
   "source": [
    "from scipy import stats\n",
    "import matplotlib.pyplot as plt\n",
    "import seaborn as sns"
   ]
  },
  {
   "cell_type": "code",
   "execution_count": 2,
   "metadata": {},
   "outputs": [],
   "source": [
    "data_normal = stats.norm.rvs(size=100000, loc=0, scale=1)"
   ]
  },
  {
   "cell_type": "code",
   "execution_count": 3,
   "metadata": {},
   "outputs": [
    {
     "name": "stderr",
     "output_type": "stream",
     "text": [
      "/home/mosaleh/anaconda3/lib/python3.8/site-packages/seaborn/distributions.py:2551: FutureWarning: `distplot` is a deprecated function and will be removed in a future version. Please adapt your code to use either `displot` (a figure-level function with similar flexibility) or `histplot` (an axes-level function for histograms).\n",
      "  warnings.warn(msg, FutureWarning)\n"
     ]
    },
    {
     "data": {
      "text/plain": [
       "<AxesSubplot:>"
      ]
     },
     "execution_count": 3,
     "metadata": {},
     "output_type": "execute_result"
    },
    {
     "data": {
      "image/png": "[encoded data removed]",
      "text/plain": [
       "<Figure size 432x288 with 1 Axes>"
      ]
     },
     "metadata": {
      "needs_background": "light"
     },
     "output_type": "display_data"
    }
   ],
   "source": [
    "sns.distplot(data_normal, bins=100, kde=False)"
   ]
  },
  {
   "cell_type": "code",
   "execution_count": 4,
   "metadata": {},
   "outputs": [],
   "source": [
    "data_uniform = stats.uniform.rvs(size=1000000, loc=0, scale=10)"
   ]
  },
  {
   "cell_type": "code",
   "execution_count": 5,
   "metadata": {},
   "outputs": [
    {
     "data": {
      "text/plain": [
       "<AxesSubplot:>"
      ]
     },
     "execution_count": 5,
     "metadata": {},
     "output_type": "execute_result"
    },
    {
     "data": {
      "image/png": "[encoded data removed]",
      "text/plain": [
       "<Figure size 432x288 with 1 Axes>"
      ]
     },
     "metadata": {
      "needs_background": "light"
     },
     "output_type": "display_data"
    }
   ],
   "source": [
    "sns.distplot(data_uniform, bins=100, kde=False)"
   ]
  },
  {
   "cell_type": "code",
   "execution_count": 6,
   "metadata": {},
   "outputs": [],
   "source": [
    "data_bernoulli = stats.bernoulli.rvs(size=1000, p=0.2)"
   ]
  },
  {
   "cell_type": "code",
   "execution_count": 7,
   "metadata": {},
   "outputs": [
    {
     "data": {
      "text/plain": [
       "<AxesSubplot:ylabel='Density'>"
      ]
     },
     "execution_count": 7,
     "metadata": {},
     "output_type": "execute_result"
    },
    {
     "data": {
      "image/png": "[encoded data removed]",
      "text/plain": [
       "<Figure size 432x288 with 1 Axes>"
      ]
     },
     "metadata": {
      "needs_background": "light"
     },
     "output_type": "display_data"
    }
   ],
   "source": [
    "sns.distplot(data_bernoulli, bins=10)"
   ]
  },
  {
   "cell_type": "code",
   "execution_count": 8,
   "metadata": {},
   "outputs": [
    {
     "data": {
      "text/plain": [
       "array([0, 0, 0, 1, 0, 0, 0, 0, 0, 0, 1, 0, 0, 0, 0, 0, 0, 0, 0, 0, 1, 1,\n",
       "       0, 0, 1, 0, 0, 0, 0, 1, 0, 1, 0, 0, 0, 0, 0, 1, 0, 0, 0, 0, 0, 1,\n",
       "       0, 0, 0, 0, 0, 1, 0, 0, 0, 0, 0, 0, 0, 0, 0, 0, 0, 1, 0, 1, 0, 1,\n",
       "       0, 0, 0, 1, 0, 0, 0, 0, 0, 0, 0, 0, 0, 0, 0, 0, 0, 1, 0, 0, 0, 0,\n",
       "       1, 0, 0, 0, 0, 0, 0, 0, 0, 0, 0, 0, 0, 0, 0, 1, 0, 0, 0, 1, 0, 0,\n",
       "       1, 0, 0, 0, 0, 0, 0, 0, 0, 0, 1, 0, 0, 0, 0, 0, 1, 0, 0, 0, 0, 0,\n",
       "       0, 0, 1, 0, 0, 0, 0, 0, 0, 0, 0, 0, 0, 0, 1, 1, 1, 1, 1, 0, 0, 0,\n",
       "       0, 0, 1, 1, 0, 1, 0, 0, 0, 0, 0, 0, 0, 0, 0, 0, 0, 0, 1, 0, 0, 1,\n",
       "       1, 1, 0, 0, 1, 0, 0, 0, 0, 0, 1, 1, 0, 0, 0, 0, 0, 1, 0, 0, 0, 0,\n",
       "       0, 0, 0, 0, 0, 0, 0, 1, 0, 0, 0, 0, 0, 0, 0, 0, 0, 1, 0, 1, 0, 0,\n",
       "       1, 0, 0, 0, 1, 0, 1, 1, 0, 0, 1, 0, 0, 0, 0, 0, 0, 0, 1, 1, 1, 1,\n",
       "       0, 0, 0, 0, 0, 1, 0, 0, 0, 1, 1, 0, 0, 0, 0, 1, 0, 1, 0, 0, 1, 0,\n",
       "       0, 0, 0, 0, 0, 0, 0, 0, 0, 0, 0, 0, 0, 0, 0, 0, 0, 0, 0, 0, 0, 1,\n",
       "       0, 1, 0, 0, 0, 0, 0, 0, 0, 0, 0, 0, 0, 0, 0, 0, 0, 1, 0, 1, 1, 0,\n",
       "       0, 0, 0, 0, 1, 0, 0, 0, 0, 0, 0, 0, 0, 0, 1, 0, 0, 0, 0, 0, 0, 0,\n",
       "       0, 0, 0, 0, 1, 1, 1, 0, 1, 1, 0, 1, 0, 0, 0, 0, 1, 0, 0, 0, 0, 0,\n",
       "       0, 1, 0, 1, 0, 0, 0, 1, 0, 0, 0, 0, 0, 0, 0, 0, 0, 0, 0, 1, 0, 0,\n",
       "       0, 1, 0, 0, 0, 0, 0, 0, 0, 1, 0, 0, 0, 0, 0, 1, 0, 1, 0, 0, 0, 0,\n",
       "       0, 0, 0, 0, 0, 0, 0, 0, 1, 0, 0, 0, 0, 0, 0, 1, 0, 1, 0, 1, 1, 0,\n",
       "       0, 0, 1, 0, 1, 0, 0, 1, 0, 0, 1, 0, 1, 1, 0, 1, 0, 1, 0, 0, 0, 0,\n",
       "       0, 0, 0, 0, 0, 0, 0, 0, 0, 0, 0, 0, 1, 1, 0, 0, 0, 0, 0, 1, 0, 0,\n",
       "       0, 0, 0, 0, 0, 0, 0, 0, 0, 0, 0, 0, 0, 0, 0, 0, 0, 0, 1, 1, 0, 1,\n",
       "       0, 0, 0, 0, 0, 0, 0, 0, 1, 0, 0, 0, 0, 0, 0, 0, 0, 1, 1, 0, 0, 0,\n",
       "       1, 1, 0, 0, 0, 0, 1, 0, 0, 0, 0, 0, 0, 0, 0, 0, 1, 0, 0, 1, 0, 0,\n",
       "       0, 0, 0, 1, 0, 1, 0, 0, 1, 0, 1, 0, 1, 0, 1, 0, 0, 0, 1, 0, 1, 0,\n",
       "       0, 1, 0, 1, 1, 0, 0, 0, 0, 0, 0, 0, 1, 0, 0, 0, 0, 0, 0, 0, 0, 0,\n",
       "       1, 1, 0, 0, 0, 0, 0, 0, 0, 0, 0, 0, 0, 0, 0, 0, 0, 1, 0, 0, 0, 1,\n",
       "       0, 0, 0, 0, 1, 0, 0, 0, 0, 1, 0, 0, 0, 0, 0, 0, 0, 0, 0, 0, 1, 0,\n",
       "       0, 0, 0, 0, 1, 1, 0, 0, 0, 0, 0, 1, 0, 0, 1, 1, 0, 0, 0, 0, 0, 0,\n",
       "       0, 0, 0, 0, 1, 0, 0, 0, 0, 1, 0, 0, 0, 1, 0, 1, 0, 0, 0, 0, 0, 0,\n",
       "       0, 1, 0, 1, 0, 0, 0, 1, 0, 0, 1, 0, 0, 0, 0, 1, 0, 1, 0, 0, 0, 0,\n",
       "       0, 1, 0, 0, 0, 0, 0, 0, 0, 0, 0, 0, 0, 1, 0, 1, 1, 1, 0, 0, 0, 0,\n",
       "       0, 0, 0, 0, 1, 1, 0, 0, 0, 1, 1, 0, 0, 1, 0, 0, 0, 0, 1, 0, 0, 1,\n",
       "       0, 1, 1, 0, 0, 0, 0, 0, 0, 0, 0, 1, 0, 0, 1, 0, 0, 0, 0, 0, 0, 0,\n",
       "       1, 0, 0, 0, 0, 0, 0, 0, 0, 0, 0, 0, 0, 0, 0, 0, 0, 1, 0, 0, 0, 0,\n",
       "       0, 0, 0, 0, 0, 0, 1, 0, 0, 0, 0, 0, 1, 0, 0, 0, 0, 0, 0, 0, 0, 0,\n",
       "       0, 0, 1, 0, 0, 0, 0, 0, 0, 0, 0, 1, 1, 0, 1, 1, 0, 0, 0, 0, 0, 0,\n",
       "       1, 0, 0, 0, 0, 0, 0, 1, 0, 0, 0, 0, 0, 0, 1, 0, 0, 0, 0, 0, 0, 0,\n",
       "       0, 0, 0, 1, 0, 1, 0, 0, 0, 0, 0, 0, 1, 1, 0, 0, 1, 0, 0, 0, 0, 1,\n",
       "       0, 0, 0, 0, 0, 1, 0, 0, 0, 0, 1, 0, 0, 0, 0, 0, 0, 0, 0, 1, 0, 1,\n",
       "       0, 0, 0, 0, 0, 0, 1, 0, 0, 0, 0, 0, 0, 1, 0, 0, 1, 0, 0, 0, 0, 0,\n",
       "       1, 0, 0, 0, 0, 1, 0, 0, 0, 0, 0, 0, 0, 0, 0, 0, 1, 0, 0, 0, 0, 0,\n",
       "       0, 0, 0, 0, 0, 1, 0, 0, 0, 1, 1, 0, 0, 0, 0, 1, 0, 0, 0, 1, 0, 0,\n",
       "       1, 1, 0, 0, 0, 1, 1, 0, 0, 0, 1, 0, 0, 1, 0, 0, 0, 0, 0, 0, 1, 0,\n",
       "       0, 1, 0, 1, 0, 0, 0, 0, 0, 1, 0, 0, 0, 1, 0, 1, 1, 1, 0, 0, 0, 0,\n",
       "       0, 0, 0, 0, 0, 0, 0, 0, 0, 0])"
      ]
     },
     "execution_count": 8,
     "metadata": {},
     "output_type": "execute_result"
    }
   ],
   "source": [
    "data_bernoulli"
   ]
  },
  {
   "cell_type": "code",
   "execution_count": 9,
   "metadata": {},
   "outputs": [],
   "source": [
    "data_binomial = stats.binom.rvs(size= 1000, n=100, p=0.2)"
   ]
  },
  {
   "cell_type": "code",
   "execution_count": 10,
   "metadata": {},
   "outputs": [
    {
     "name": "stderr",
     "output_type": "stream",
     "text": [
      "/home/mosaleh/anaconda3/lib/python3.8/site-packages/seaborn/distributions.py:2551: FutureWarning: `distplot` is a deprecated function and will be removed in a future version. Please adapt your code to use either `displot` (a figure-level function with similar flexibility) or `histplot` (an axes-level function for histograms).\n",
      "  warnings.warn(msg, FutureWarning)\n"
     ]
    },
    {
     "data": {
      "text/plain": [
       "<AxesSubplot:ylabel='Density'>"
      ]
     },
     "execution_count": 10,
     "metadata": {},
     "output_type": "execute_result"
    },
    {
     "data": {
      "image/png": "[encoded data removed]",
      "text/plain": [
       "<Figure size 432x288 with 1 Axes>"
      ]
     },
     "metadata": {
      "needs_background": "light"
     },
     "output_type": "display_data"
    }
   ],
   "source": [
    "sns.distplot(data_binomial, bins=100)"
   ]
  },
  {
   "cell_type": "code",
   "execution_count": 13,
   "metadata": {},
   "outputs": [
    {
     "data": {
      "text/plain": [
       "array([14, 20, 25, 23, 20, 23, 21, 28, 15, 22, 20, 18, 25, 21, 19, 14, 25,\n",
       "       20, 26, 15, 18, 16, 17, 21, 17, 20, 14, 14, 30, 22, 15, 32, 19, 24,\n",
       "       18, 13, 18, 23, 22, 21, 21, 20, 20, 16, 22, 16, 16, 12, 18, 17, 23,\n",
       "       15, 20, 26, 18, 20, 22, 20, 23, 28, 24, 19, 16, 26, 17, 26, 21, 17,\n",
       "       23, 26, 15, 21, 19, 35, 19, 30, 22, 21, 19, 27, 24, 19, 11, 21, 16,\n",
       "       22, 25, 18, 18, 20, 19, 15, 23, 19, 20, 19, 19, 21, 17, 23, 17, 24,\n",
       "       23, 19, 20, 22, 21, 18, 18, 26, 20, 26, 19, 23, 25, 13, 20, 20, 31,\n",
       "       24, 15, 21, 15, 19, 12, 16, 21, 16, 16, 17, 17, 17, 15, 15, 23, 30,\n",
       "       21, 23, 20, 24, 16, 24, 28, 19, 19, 22, 18, 18, 18, 22, 22, 32, 16,\n",
       "       19, 19, 20, 26, 23, 15, 21, 20, 22, 21, 18, 16, 12, 14, 16, 13, 16,\n",
       "       18, 18, 24, 18, 23, 17, 16, 23, 27, 18, 22, 24, 18, 18, 24, 21, 17,\n",
       "       25, 23, 27, 25, 17, 16, 23, 20, 22, 24, 18, 28, 20, 24, 25, 14, 21,\n",
       "       20, 20, 15, 19, 28, 22, 23, 18, 25, 20, 18, 15, 17, 28, 16, 22, 19,\n",
       "       20, 20, 14, 15, 19, 16, 33, 23, 16, 21, 20, 16, 17, 12, 25, 16, 23,\n",
       "       20, 18, 20, 22, 19, 15, 19, 15, 20, 17, 15, 17, 17, 23, 24, 25, 19,\n",
       "       16, 16, 22, 25, 15, 18, 31, 21, 18, 28, 19, 33, 18, 16, 18, 17, 16,\n",
       "       23, 21, 21, 17, 15, 20, 18, 19, 19, 17, 18, 21, 27, 27, 19, 18, 20,\n",
       "       18, 23, 19, 17, 23, 19, 20, 17, 16, 20, 21, 25, 26, 20, 21, 14, 21,\n",
       "       22, 24, 24, 19, 26, 22, 21, 27, 14, 21, 20, 22, 16, 16, 19, 18, 27,\n",
       "       25, 21, 16, 18, 19, 20, 21, 20, 22, 23, 21, 18, 23, 23, 16, 14, 19,\n",
       "       26, 25, 24, 20, 15, 23, 21, 19, 19, 22, 19, 17, 22, 24, 23, 21, 15,\n",
       "       19, 18, 27, 19, 23, 16, 20, 18, 26, 25, 23, 19, 17, 25, 20, 15, 27,\n",
       "       27, 20, 14, 13, 25, 18, 19, 20, 21, 16, 24, 21, 22, 18, 22, 14, 22,\n",
       "       26, 16, 19, 17, 20, 24, 17, 19, 19, 22, 14, 18, 14, 18, 25, 15, 24,\n",
       "       15, 17, 23, 19, 18, 22, 26, 23, 15, 25, 26, 23, 16, 20, 21, 16, 22,\n",
       "       26, 22, 18, 19, 19, 23, 18, 21, 29, 16, 16, 20, 13, 21, 18, 21, 23,\n",
       "       18, 19, 22, 19, 16, 26, 18, 16, 22, 19, 19, 18, 12, 17, 12, 26, 25,\n",
       "       21, 17, 15, 21, 24, 20, 19, 23, 19, 26, 22, 18, 19, 16, 26, 17, 13,\n",
       "       14, 21, 22, 25, 18, 13, 24, 18, 19, 22, 24, 20, 21, 25, 19, 21, 16,\n",
       "       26, 20, 18, 17, 29, 18, 26, 19, 22, 20, 20, 21, 22, 19, 23, 11, 21,\n",
       "       20, 25, 18, 10, 28, 20, 20, 28, 17, 22, 20, 27, 17, 25, 16, 26, 24,\n",
       "       18, 23, 13, 33, 23, 24, 19, 16, 24, 18, 15, 14, 25, 26, 26, 19, 20,\n",
       "       28, 28, 13, 18, 29, 24, 20, 10, 16, 19, 18, 26, 22, 13, 25, 20, 22,\n",
       "       16, 19, 19, 16, 21, 20, 24, 31, 26, 22, 18, 14, 14, 22, 20, 23, 22,\n",
       "       31, 20, 23, 23, 23, 25, 19, 18, 22, 13, 17, 16, 17, 11, 16, 14, 21,\n",
       "       27, 30, 24, 21, 18, 19, 21, 16, 16, 22, 19, 26, 26, 18, 22, 19, 20,\n",
       "       22, 18, 11, 23, 20, 14, 16, 20, 19, 22, 21, 23, 24, 21, 26, 23, 21,\n",
       "       25, 18, 20, 23, 23, 23,  9, 24, 27, 20, 20, 17, 14, 22, 19, 23, 17,\n",
       "       20, 20, 20, 17, 20, 18, 20, 23, 21, 24, 22, 16, 22, 18, 19, 21, 22,\n",
       "       23, 16, 20, 20, 24, 21, 17, 19, 21, 21, 19, 20, 16, 22, 17, 21, 19,\n",
       "       14, 15, 20, 15, 18, 19, 20, 22, 15, 23, 17, 20, 19, 16, 24, 13, 22,\n",
       "       25, 23, 14, 15, 22, 20, 18, 14, 25, 28, 17, 21, 21, 14, 20, 13, 16,\n",
       "       21, 29, 18, 19, 22, 16, 22, 21, 22, 20, 15, 20, 24, 27, 20, 17, 24,\n",
       "       23, 18, 22, 18, 23, 22, 19, 20, 24, 14, 23, 16, 20, 20, 18, 14, 19,\n",
       "       17, 17, 20, 22, 16, 18, 23, 12, 22, 19, 22, 17, 17,  9, 25, 19, 25,\n",
       "       16, 19, 28, 20, 27, 22, 30, 21, 21, 20, 28, 21, 20, 14, 22, 13, 17,\n",
       "       19, 13, 23, 19, 21, 17, 12, 17, 21, 17, 20, 22, 22, 33, 20, 14, 18,\n",
       "       27, 16, 20, 20, 28, 20, 13, 16, 15, 14, 19, 22, 22, 14, 16, 22, 26,\n",
       "       18, 22, 20, 13, 21, 15, 16, 25, 18, 23, 20, 28, 29, 20, 17, 15, 19,\n",
       "       16, 18, 13, 18, 11, 14, 17, 28, 16, 21, 23, 14, 17, 17, 19, 23, 17,\n",
       "       20, 15, 21, 21, 22, 20, 28, 16, 22, 24, 16, 17, 13, 13, 20, 18, 22,\n",
       "       20, 27, 20, 18, 18, 19, 17, 19, 19, 23, 20, 15, 14, 16, 24, 19, 18,\n",
       "       24, 14, 13, 17, 26, 16, 31, 22, 26, 23, 19, 18, 16, 27, 20, 17, 21,\n",
       "       18, 22, 15, 25, 27, 16, 16, 20, 23, 16, 22, 30, 18, 25, 21, 22, 18,\n",
       "       22, 19, 12, 31, 27, 25, 19, 20, 19, 12, 24, 19, 23, 19, 26, 23, 24,\n",
       "       17, 18, 19, 15, 23, 16,  9, 19, 19, 18, 16, 16, 14, 18, 21, 16, 21,\n",
       "       21, 16, 16, 21, 15, 23, 25, 25, 17, 26, 27, 19, 22, 21, 20, 17, 19,\n",
       "       23, 15, 16, 24, 23, 18, 22, 24, 14, 19, 16, 22, 18, 24, 20, 25, 15,\n",
       "       26, 20, 22, 25, 19, 12, 16, 17, 21, 18, 25, 16, 16, 21])"
      ]
     },
     "execution_count": 13,
     "metadata": {},
     "output_type": "execute_result"
    }
   ],
   "source": [
    "data_binomial"
   ]
  },
  {
   "cell_type": "code",
   "execution_count": 14,
   "metadata": {},
   "outputs": [],
   "source": [
    "import numpy as np"
   ]
  },
  {
   "cell_type": "code",
   "execution_count": 69,
   "metadata": {
    "scrolled": true
   },
   "outputs": [
    {
     "name": "stdout",
     "output_type": "stream",
     "text": [
      "[[3 0 1 1 0 1]\n",
      " [2 2 1 0 1 0]\n",
      " [0 2 0 2 1 1]\n",
      " [1 0 1 1 3 0]\n",
      " [1 0 1 1 2 1]\n",
      " [1 0 3 0 1 1]\n",
      " [2 0 3 0 1 0]\n",
      " [1 1 2 1 1 0]\n",
      " [0 0 1 1 0 4]\n",
      " [1 1 2 0 1 1]]\n"
     ]
    }
   ],
   "source": [
    "p = 1/6\n",
    "data_multinomial = np.random.multinomial(n=6, pvals=[p, p, p, p, p, p], size=10)\n",
    "print(data_multinomial)"
   ]
  },
  {
   "cell_type": "code",
   "execution_count": 72,
   "metadata": {
    "scrolled": true
   },
   "outputs": [
    {
     "name": "stdout",
     "output_type": "stream",
     "text": [
      "[[285 195 520]\n",
      " [315 211 474]\n",
      " [294 205 501]\n",
      " ...\n",
      " [293 211 496]\n",
      " [285 201 514]\n",
      " [291 199 510]]\n"
     ]
    }
   ],
   "source": [
    "icu=0.3\n",
    "surgery=0.2\n",
    "el=0.5\n",
    "data_multinomial = np.random.multinomial(n=1000, pvals=[icu, surgery, el], size=365)\n",
    "print(data_multinomial)"
   ]
  },
  {
   "cell_type": "code",
   "execution_count": 81,
   "metadata": {},
   "outputs": [
    {
     "data": {
      "text/plain": [
       "array([ 9,  5,  6,  3,  4,  8, 11,  8,  7,  8, 10,  4,  9,  9,  6,  4,  5,\n",
       "        2,  7,  5,  8,  5, 11,  9,  7,  8,  6, 12,  7,  6,  9,  4,  5,  6,\n",
       "        8,  6,  8,  5,  3,  8,  3,  6, 10,  9,  8,  8,  8,  1, 14,  5,  4,\n",
       "        3,  5,  8,  9,  8, 10,  9,  8,  8,  7, 10,  4,  3,  6,  2,  9,  9,\n",
       "        8,  4,  9,  4,  6,  2,  3,  5,  4,  9,  8,  7,  1,  4,  6,  8,  6,\n",
       "        3,  9, 11,  8,  3,  4,  6, 10,  7,  5,  9,  5,  7,  3,  6,  9,  4,\n",
       "        5, 10, 11,  9,  6,  8,  5,  6,  2,  7,  4, 11,  6,  7,  2,  6, 12,\n",
       "        3, 12,  8, 13,  5,  5,  6,  8, 10,  4, 10,  4,  9,  3,  8,  9,  6,\n",
       "       11,  6,  7, 11,  9,  5,  9,  6,  2,  6,  7,  4,  7,  9,  5,  8,  2,\n",
       "        4,  9,  3,  5, 11, 10,  6,  5, 12,  5,  8,  8, 11,  4,  7,  8,  4,\n",
       "        4,  7,  3,  4,  4, 11,  7,  6,  4,  4,  9,  8,  7,  4,  4,  3,  4,\n",
       "        8,  7, 10,  6,  3,  6,  7,  8, 10,  3,  7,  8,  6, 10,  4,  9,  5,\n",
       "        7,  3,  2,  9,  8,  6,  5,  6, 10,  6, 11,  8,  7,  4,  8,  5,  7,\n",
       "        4, 11,  6,  5,  5,  5,  8, 12,  7,  2,  9,  9,  5,  6,  8,  5,  8,\n",
       "       11,  5, 11,  5,  1, 13,  5,  5,  9,  3,  6,  7,  8,  4,  7,  8,  3,\n",
       "       10,  5,  8, 10,  7,  5,  5,  5,  6,  6,  6,  8,  4,  6,  6,  8,  7,\n",
       "        5, 10,  4,  5,  5,  3,  6,  7,  8, 11,  5,  6, 10,  6,  4,  6,  6,\n",
       "       10,  8,  9,  7,  9, 14,  4,  9,  6,  4,  8,  7,  6,  8,  9,  4,  7,\n",
       "        9,  6,  9,  9, 10,  2, 10,  6,  3,  8,  2,  8,  5,  7,  4,  7,  8,\n",
       "        7,  9,  9,  7,  4, 11,  5,  7,  5,  3,  4,  9,  4, 10,  7,  5, 10,\n",
       "        5,  6,  2,  5, 10,  7,  8,  5,  3,  9,  6,  6,  4,  6,  7,  8,  6,\n",
       "        7,  6,  4,  6,  6,  7,  7, 11,  9, 10,  9, 11,  4, 12, 12,  4,  5,\n",
       "        8,  9,  7, 10,  7,  9, 10,  5,  5,  9,  6,  4,  4,  3,  9,  7,  5,\n",
       "        6,  7, 11,  4,  9,  8,  4, 12,  7,  7,  6,  8, 10,  4,  8,  7, 12,\n",
       "       10,  8,  5, 10,  6,  3,  5,  4,  8,  7,  7,  5,  2,  8,  9,  5,  5,\n",
       "        5,  8,  4, 10,  3,  7,  9,  6,  5,  5, 12,  4, 11,  8,  8, 11,  3,\n",
       "        6,  7,  9,  5,  3,  7, 10,  4,  6,  3,  6,  6,  1,  9,  7,  3,  8,\n",
       "        8,  7,  5,  7,  7,  8, 11,  7, 12, 14, 11,  7,  7,  6,  6,  9,  6,\n",
       "        7,  6,  3,  8,  3,  8,  9,  3,  2,  9,  6,  9,  6,  7,  5, 10,  9,\n",
       "        5,  6,  6,  6, 10,  4,  6,  7, 15,  8,  4,  8,  7, 10,  8, 10, 13,\n",
       "        7,  5,  6,  8,  9,  6, 10,  7,  5,  7,  8,  7,  4,  2,  8, 13,  8,\n",
       "        6,  6,  8,  4,  4,  5,  3,  9, 14,  8,  9,  2,  6,  5,  2,  7,  6,\n",
       "        4,  9,  3,  6, 13,  7,  5,  4,  5,  7,  6,  4,  7,  5,  8,  8,  9,\n",
       "        8,  7,  5,  5,  9,  6,  7, 11,  9,  7,  6,  3,  5,  9, 11,  8,  8,\n",
       "        5,  7,  4,  7, 11, 11,  4,  8,  2,  7,  2,  8,  7,  8,  6,  6,  7,\n",
       "        6,  9, 12,  8,  8,  2,  7,  6,  8,  5,  6,  8,  3,  8, 12,  8,  9,\n",
       "        8,  6,  6,  5,  3,  8,  6,  9,  3,  5,  8,  4,  4,  6, 10,  8,  5,\n",
       "        8,  7, 10,  6,  3,  9,  7,  7,  5, 10,  6,  4,  4,  5,  4,  7,  3,\n",
       "        6,  9, 16,  3,  8,  5,  6,  5,  6,  7,  3,  3,  5,  8, 11,  3,  5,\n",
       "        4,  3,  6,  8,  8,  8,  9,  5,  5,  6,  5,  2,  4,  8,  7,  5,  8,\n",
       "       11,  7,  7,  6,  8,  4,  3,  6,  3,  6,  8,  9,  4,  6,  9,  4,  6,\n",
       "       10,  4,  4,  5,  2,  8,  7,  6,  6,  6,  6,  6, 12,  9,  9, 11,  8,\n",
       "        5, 10,  2,  5, 14,  9,  7,  6,  7,  4,  6, 10,  8,  3,  2,  4,  5,\n",
       "        6, 11,  4,  5,  9,  9, 10,  6,  8,  6,  9,  6,  9,  5,  9,  4,  5,\n",
       "        6,  6, 14,  9, 13,  5,  9,  8,  7, 13,  3,  8,  3,  6,  5,  4, 10,\n",
       "        6,  4,  6,  8,  4,  5,  4,  5,  7,  3,  9, 11,  9,  8, 12,  8,  3,\n",
       "        5,  5,  6,  6,  4,  8,  7,  9,  9,  9,  6,  5,  4, 10,  6,  4,  9,\n",
       "       10,  8,  7,  6, 13,  7,  6,  8,  7,  8, 11,  2,  5,  8,  7,  8,  9,\n",
       "        7,  5,  7,  7,  3,  6,  8,  6, 11,  7,  7,  4,  8,  3,  6,  7,  6,\n",
       "        7,  6, 10,  5,  3,  8,  7,  7,  9,  3,  6,  8,  7,  7,  7,  7,  7,\n",
       "        4,  5,  8,  6,  3,  9,  7,  8,  5, 11,  6,  4,  8,  7,  6, 11,  9,\n",
       "        6,  4, 10,  6,  3,  4,  7,  7,  7,  7,  8,  5, 13,  5,  6,  3,  5,\n",
       "        6,  4, 12,  7,  5,  6,  6,  8,  7,  7,  3,  5,  5,  8,  6,  7,  5,\n",
       "       13, 10,  6,  5,  4,  9,  8,  7,  5,  8,  8,  6,  3, 11,  5,  8,  6,\n",
       "        5, 12,  3,  4,  9,  8,  9,  5,  9,  8,  7,  5,  7, 10,  8,  6,  8,\n",
       "        5,  6,  8,  7,  7,  8,  4, 10,  6,  5, 11,  8,  5,  4,  4,  5, 10,\n",
       "        8,  7,  3,  8,  4,  3,  7,  6,  5,  5, 14, 10,  5,  6,  4,  8,  6,\n",
       "        9,  7,  3,  7,  3,  8,  4,  7,  9, 13,  8,  7,  2,  7,  6, 12,  7,\n",
       "        7,  6,  1,  5,  7,  4, 12, 12,  5,  5,  8,  5, 15,  7])"
      ]
     },
     "execution_count": 81,
     "metadata": {},
     "output_type": "execute_result"
    }
   ],
   "source": [
    "data_poisson = np.random.poisson(lam=7, size=1000)\n",
    "data_poisson"
   ]
  },
  {
   "cell_type": "code",
   "execution_count": 82,
   "metadata": {},
   "outputs": [
    {
     "data": {
      "text/plain": [
       "<AxesSubplot:>"
      ]
     },
     "execution_count": 82,
     "metadata": {},
     "output_type": "execute_result"
    },
    {
     "data": {
      "image/png": "[encoded data removed]",
      "text/plain": [
       "<Figure size 432x288 with 1 Axes>"
      ]
     },
     "metadata": {
      "needs_background": "light"
     },
     "output_type": "display_data"
    }
   ],
   "source": [
    "sns.distplot(data_poisson, kde=False)"
   ]
  },
  {
   "cell_type": "code",
   "execution_count": 85,
   "metadata": {},
   "outputs": [
    {
     "data": {
      "text/plain": [
       "array([6.22176964e-01, 2.44188029e-01, 4.93575547e-01, 2.10344293e+00,\n",
       "       1.91862878e+00, 2.21325360e-01, 2.37252829e-01, 3.99399339e+00,\n",
       "       9.93985730e-01, 1.12159890e+00, 4.57027673e+00, 3.00278033e+00,\n",
       "       1.24709908e+00, 7.58871749e-01, 7.82648491e-01, 1.74191148e+00,\n",
       "       2.60155387e+00, 1.51937890e+00, 1.56362394e+00, 4.85532978e-01,\n",
       "       3.08493763e+00, 4.42704799e+00, 8.43978758e-01, 1.37471614e-01,\n",
       "       1.34949271e-04, 2.63771814e+00, 1.99770525e+00, 2.24748935e+00,\n",
       "       1.11830274e+00, 1.74476274e-01, 1.74221600e+00, 8.95659066e-01,\n",
       "       2.54063372e+00, 2.48182654e+00, 9.96908499e-01, 1.36876987e+00,\n",
       "       8.82370795e-01, 2.53250926e-01, 2.85711905e+00, 4.51755535e+00,\n",
       "       1.52374188e+00, 3.40172552e+00, 1.55677905e+00, 7.74118811e-01,\n",
       "       9.26655578e-01, 6.72538494e-01, 2.57318766e-01, 1.33210317e-01,\n",
       "       5.00485928e+00, 1.60038378e-01, 7.84074807e-01, 2.39609597e+00,\n",
       "       2.01024008e+00, 1.77451806e-01, 2.96827833e-01, 2.29496364e+00,\n",
       "       5.63329599e-02, 8.10676645e-01, 1.31653730e+01, 4.92514424e-01,\n",
       "       9.60006721e-01, 1.63734308e+00, 7.72794516e-01, 3.17669007e+00,\n",
       "       1.85889333e+00, 1.46748821e+00, 1.09812810e+00, 1.73365233e+00,\n",
       "       8.54332704e-01, 1.18570848e+01, 4.22697386e-01, 8.37926433e-01,\n",
       "       2.62523315e-01, 3.71917436e-01, 9.86629732e-01, 1.64928657e-01,\n",
       "       3.79989015e-01, 9.37933878e-03, 4.86724254e+00, 4.24151411e+00,\n",
       "       1.67669367e-01, 1.58997571e+00, 3.78495071e-01, 3.53128699e-01,\n",
       "       1.19423428e+00, 3.24290745e-01, 2.98911960e+00, 1.18928808e+00,\n",
       "       3.61695418e+00, 3.01177761e+00, 1.14450707e+00, 6.74774029e-01,\n",
       "       3.18369283e-02, 2.50755961e+00, 2.31868940e+00, 2.91332483e+00,\n",
       "       2.95069414e+00, 1.08855532e+01, 6.05418226e-02, 1.50981354e+00,\n",
       "       6.44763581e-01, 3.58638157e+00, 4.35274658e+00, 7.72273442e+00,\n",
       "       3.54657287e-02, 3.23063659e-01, 1.35541564e+00, 2.18888142e+00,\n",
       "       6.53919100e-01, 1.74110336e+00, 4.72631270e-01, 1.88661908e+00,\n",
       "       7.16305231e-01, 9.03383044e-01, 3.52366976e+00, 1.39023191e+00,\n",
       "       4.61994790e-01, 5.59428210e-01, 4.70247608e-01, 5.54470188e-02,\n",
       "       4.80927541e+00, 1.32210242e+00, 4.10763924e-01, 7.96974437e-01,\n",
       "       8.11186194e+00, 2.71662936e+00, 1.59183458e+00, 1.68467116e+00,\n",
       "       1.32325189e+00, 1.98605331e+00, 2.88912161e+00, 1.88745703e+00,\n",
       "       1.59942835e+00, 3.00197593e+00, 4.75536550e+00, 7.67057082e-03,\n",
       "       4.53634481e-01, 8.48590273e-01, 1.40707544e-01, 5.41298307e+00,\n",
       "       2.18507048e+00, 2.70914813e+00, 2.01383437e+00, 2.95545567e+00,\n",
       "       8.68005397e+00, 1.79783515e+00, 1.04327779e+00, 3.08339632e+00,\n",
       "       3.40273199e+00, 1.47370287e+00, 3.69101667e+00, 3.21132879e+00,\n",
       "       1.35913383e-01, 1.57926634e+00, 1.58153210e+00, 1.65711961e+00,\n",
       "       2.57205971e-01, 1.96405402e-01, 1.30889542e+00, 1.61580951e+00,\n",
       "       2.99987508e+00, 1.91478023e-01, 1.42335346e-01, 1.76224274e+00,\n",
       "       7.42091049e-01, 3.59950196e+00, 2.04110079e-01, 3.93991615e-02,\n",
       "       2.78745339e+00, 4.29422607e+00, 3.78581701e+00, 4.45366445e+00,\n",
       "       8.80531199e-01, 2.49270830e+00, 1.52456134e+00, 1.32401014e-01,\n",
       "       2.20320606e-01, 8.28226434e-01, 1.55275622e+00, 2.66923586e+00,\n",
       "       4.77946288e-01, 1.07641105e+00, 1.69839403e+00, 6.04806611e-01,\n",
       "       2.70218158e-01, 1.87231491e-01, 2.16773700e+00, 8.85487775e-01,\n",
       "       4.03187777e+00, 5.86120054e-01, 2.90747600e+00, 2.38172744e+00,\n",
       "       1.95083119e+00, 4.61280652e-01, 2.78156808e+00, 1.71820514e+00,\n",
       "       2.71584375e+00, 1.12355885e+00, 3.49723362e+00, 4.15196710e+00,\n",
       "       5.85866836e-01, 5.50271958e+00, 1.53311304e-01, 4.13149468e+00,\n",
       "       2.43242258e-01, 3.32575321e-01, 3.04271570e-01, 1.70484581e+00,\n",
       "       2.61171455e-01, 1.78903841e+00, 2.81115429e+00, 5.89583991e-01,\n",
       "       2.70198678e-01, 1.47499386e+00, 2.89266615e+00, 1.93099235e+00,\n",
       "       6.64491553e-01, 6.68393379e-01, 1.14934856e-02, 2.45484075e+00,\n",
       "       7.67351797e-01, 6.34774148e-01, 1.14672076e-01, 1.72571013e+00,\n",
       "       2.71997728e-01, 2.28370426e+00, 4.65435217e+00, 4.51696907e-01,\n",
       "       7.70359327e-01, 1.27834263e+00, 4.12855466e+00, 5.13148341e-01,\n",
       "       3.02292109e-02, 2.12174629e+00, 1.02434756e+01, 1.52100335e+00,\n",
       "       1.65822530e+00, 1.89569572e+00, 3.75145569e+00, 7.20772345e+00,\n",
       "       2.87206950e+00, 8.15724423e-01, 2.88959452e+00, 2.71582099e+00,\n",
       "       1.16159445e+00, 2.42750305e+00, 7.64847837e-01, 7.09460791e-01,\n",
       "       5.68129290e-01, 2.15859156e+00, 1.51565600e+00, 2.81658359e+00,\n",
       "       2.66469058e+00, 2.93985333e+00, 3.34361192e+00, 4.90792797e-01,\n",
       "       1.63257024e+00, 1.00602203e+00, 9.88738087e-02, 2.22627067e+00,\n",
       "       4.49784026e+00, 8.63121271e-01, 2.81486136e+00, 4.79726107e+00,\n",
       "       1.79541286e+00, 4.05669334e+00, 4.56883662e-01, 5.55952599e-01,\n",
       "       2.80722780e+00, 1.03591084e+00, 3.97353745e+00, 2.02434953e-01,\n",
       "       3.55201568e+00, 7.14033337e+00, 2.69028236e+00, 1.94007900e+00,\n",
       "       4.69198572e-01, 2.61031209e+00, 1.84350437e+00, 2.36809430e+00,\n",
       "       1.35045789e+00, 4.21371587e-01, 5.34156875e-01, 2.35735038e-02,\n",
       "       4.02532411e+00, 3.12818808e+00, 6.56599427e+00, 1.21259827e+00,\n",
       "       1.02428273e+00, 3.24464756e+00, 2.17663472e+00, 1.26278125e+00,\n",
       "       1.99581814e+00, 6.54910921e-01, 7.27225273e+00, 1.70097397e+00,\n",
       "       5.01884995e+00, 6.48359588e+00, 5.03968080e-02, 5.27017644e-01,\n",
       "       1.12304211e+00, 6.31522519e+00, 6.87300421e+00, 4.82165391e+00,\n",
       "       1.49809148e+00, 2.51339623e+00, 4.57667422e-01, 6.08499739e-03,\n",
       "       1.30878239e+00, 2.53180495e+00, 1.31809438e+00, 3.47828055e+00,\n",
       "       2.05982354e+00, 1.86788126e+00, 1.62807636e+00, 9.63846576e-01,\n",
       "       3.24292260e-01, 2.50095256e+00, 3.94450193e-01, 2.50348618e-01,\n",
       "       2.77029613e+00, 6.89613276e-01, 3.57567064e+00, 1.14762716e+00,\n",
       "       7.56709669e-01, 1.81265518e+00, 2.00347968e-02, 5.30243010e-01,\n",
       "       2.08409367e-01, 1.41274098e+00, 5.67101243e+00, 2.10892648e+00,\n",
       "       7.98756473e-01, 8.49190980e-01, 1.19403177e+00, 1.83427608e+00,\n",
       "       3.62097914e+00, 1.36079507e-01, 5.63372203e+00, 7.44830298e-01,\n",
       "       3.70552498e-01, 3.41337578e+00, 4.65401089e-01, 9.61953827e-01,\n",
       "       1.69753251e+00, 7.07930131e+00, 1.13378123e+00, 6.92186917e-01,\n",
       "       3.09068109e-02, 1.09915338e-01, 3.27816138e-01, 2.78905760e+00,\n",
       "       3.86617315e+00, 1.07545665e+00, 1.64643131e+00, 3.44860945e-01,\n",
       "       4.78844648e+00, 6.72910942e-02, 2.12189890e+00, 4.86613326e+00,\n",
       "       1.12281969e+00, 2.77900535e-01, 3.19629691e+00, 4.21456395e-01,\n",
       "       1.37146545e+00, 5.38871679e+00, 1.43984601e+00, 9.85978762e-01,\n",
       "       2.12370376e+00, 5.81862718e-01, 7.26151748e-01, 5.79889540e+00,\n",
       "       9.81732712e-02, 4.65183940e-01, 1.52014162e+00, 8.64606307e-01,\n",
       "       1.08126479e+00, 9.04645995e-01, 6.32760419e-01, 4.36843881e-01,\n",
       "       5.84173958e-01, 2.95276142e+00, 1.34254753e+00, 1.11595707e+00,\n",
       "       2.80190030e+00, 4.80929720e-01, 7.30547939e-01, 1.75970762e+00,\n",
       "       6.15065737e-01, 1.71943082e-01, 1.13010992e+00, 3.42376203e-01,\n",
       "       3.61591414e-01, 1.02303833e+00, 6.62493328e-02, 3.46316338e+00,\n",
       "       1.12315388e+00, 1.38870136e+00, 1.18338693e+00, 2.98859245e+00,\n",
       "       3.68373589e-01, 1.16938071e+00, 5.90285873e-01, 5.00454448e+00,\n",
       "       9.31731152e-01, 4.75760676e-01, 9.92211148e-02, 8.68450180e-03,\n",
       "       3.32586359e+00, 1.28498863e+00, 1.77648642e-01, 8.33619836e-01,\n",
       "       2.73745068e-01, 2.08330617e+00, 1.03929117e+00, 7.06205312e-01,\n",
       "       7.06709803e-01, 1.45303483e+00, 2.60318874e+00, 8.29726064e-01,\n",
       "       3.33245223e-01, 8.74057209e-01, 3.99744504e-01, 1.61622620e+00,\n",
       "       3.44997382e+00, 6.25384201e-02, 1.16591470e+00, 3.18221241e+00,\n",
       "       1.25990261e-01, 4.81784050e-01, 1.92484680e+00, 2.39028251e+00,\n",
       "       4.13184322e-01, 3.94367360e+00, 1.48840167e-01, 1.96810997e+00,\n",
       "       2.01834504e+00, 1.75069541e-01, 4.41055765e-01, 3.65105509e-01,\n",
       "       1.57858519e+00, 4.29850598e+00, 9.55062720e-01, 5.06305684e+00,\n",
       "       1.53368898e+00, 1.35588825e+00, 6.10848746e-01, 2.94958149e+00,\n",
       "       1.00762644e+00, 3.45522271e+00, 8.05216138e+00, 3.80640974e+00,\n",
       "       1.67549914e-01, 6.56072797e-01, 1.31904309e+00, 7.38387207e-01,\n",
       "       1.61084062e+00, 6.34176230e+00, 7.77158485e-01, 3.76133468e+00,\n",
       "       3.03867979e+00, 3.25378623e+00, 2.38960487e+00, 1.50494227e+00,\n",
       "       3.65118924e+00, 2.45835664e+00, 2.25784493e+00, 1.16925773e+00,\n",
       "       1.09543577e+00, 2.39184223e+00, 3.14615175e+00, 1.14569819e+00,\n",
       "       9.41817548e-01, 5.84887777e-01, 1.66211976e+00, 3.19698873e+00,\n",
       "       9.84991573e-03, 4.41516880e+00, 4.61775112e-01, 4.20379915e+00,\n",
       "       5.38861072e-01, 2.22979810e+00, 1.04908876e+00, 7.08371495e+00,\n",
       "       4.63089564e+00, 2.91045893e+00, 1.10148807e+00, 6.78606811e+00,\n",
       "       2.27322464e+00, 4.93437572e-01, 8.23225799e-01, 5.41802313e-01,\n",
       "       1.29637256e+00, 6.81631606e+00, 3.81785075e+00, 1.40772739e-01,\n",
       "       1.03193639e+00, 4.92006554e-01, 1.75931882e-01, 1.48919241e+00,\n",
       "       6.26887777e-01, 1.99135663e-03, 1.48695751e+00, 1.44125199e+00,\n",
       "       3.63684315e+00, 8.76428685e+00, 1.84890913e+00, 9.25486473e-01,\n",
       "       5.77601995e-01, 3.58112757e+00, 7.92756727e-01, 2.56583774e+00,\n",
       "       3.56029952e+00, 4.75583243e-01, 8.04204705e-01, 1.37281845e+00,\n",
       "       4.44396582e+00, 2.60575049e+00, 1.25239464e+00, 2.92021956e+00,\n",
       "       4.46014494e+00, 6.08972085e+00, 1.88622095e+00, 5.24655948e-01,\n",
       "       4.28535720e+00, 2.29798156e+00, 8.61306375e-01, 3.54207498e+00,\n",
       "       3.15504246e+00, 1.65139842e+00, 1.32507725e+00, 2.26995158e+00,\n",
       "       5.15397298e-01, 2.30033148e+00, 5.61578934e-02, 1.07728842e+00,\n",
       "       3.76750931e+00, 5.32181281e+00, 4.51811859e-01, 6.39596033e-01,\n",
       "       3.98388545e+00, 9.70233708e+00, 7.20602550e+00, 9.13113465e-01,\n",
       "       7.40079655e-01, 3.45172097e+00, 4.84807160e-01, 2.15224570e+00,\n",
       "       1.72003099e-01, 1.66024298e-02, 6.35773337e-02, 5.77969861e+00,\n",
       "       5.67996378e-01, 2.53867862e+00, 6.55251517e-01, 4.72390416e+00,\n",
       "       1.69677754e+00, 5.87538752e+00, 7.56112242e-01, 8.59283895e-01,\n",
       "       6.10114106e-01, 6.78339594e-01, 2.67737685e+00, 1.12413525e+00,\n",
       "       4.56726159e-02, 1.88079147e+00, 2.16462214e+00, 3.49755192e+00,\n",
       "       4.52223777e-01, 1.05528801e+00, 2.34170222e-01, 3.40141416e-02,\n",
       "       1.38382227e-01, 3.68307404e+00, 6.69687336e-01, 6.83315577e-01,\n",
       "       2.26954426e-01, 1.38357935e+00, 1.20967466e+00, 3.48689946e+00,\n",
       "       3.06959274e+00, 1.18850884e-01, 2.29119250e+00, 9.30956927e-01,\n",
       "       7.11763002e-01, 1.44113794e+00, 2.47935142e+00, 7.26894116e-01,\n",
       "       4.66351786e+00, 1.67762710e+00, 1.18393708e+00, 4.77032227e+00,\n",
       "       4.46991699e+00, 4.50565845e-01, 1.32158580e+00, 2.93102741e-01,\n",
       "       7.29197686e-01, 8.54354652e-01, 2.02886229e+00, 2.69973688e-01,\n",
       "       1.84086003e-02, 1.46677977e-01, 9.13112798e-02, 3.24498988e+00,\n",
       "       3.83508554e-01, 4.89024088e+00, 2.33725777e+00, 4.47965669e+00,\n",
       "       5.72209582e+00, 1.77082368e+00, 2.51111089e+00, 4.62828191e-01,\n",
       "       2.99245469e-01, 1.25655050e+00, 3.17821366e-01, 8.34359777e-01,\n",
       "       4.48494793e+00, 2.86838192e+00, 3.93983232e+00, 2.40149580e+00,\n",
       "       7.05311386e-02, 1.07470049e+00, 4.71284825e-01, 1.91145262e-01,\n",
       "       1.90873272e-01, 1.29192283e+00, 4.32134871e+00, 4.89088163e-01,\n",
       "       7.91919514e-01, 3.73139832e+00, 3.96231350e-01, 3.84289549e-01,\n",
       "       9.33520894e-01, 3.49014252e+00, 1.66130753e+00, 4.53492174e+00,\n",
       "       1.02967733e+00, 9.84314604e-01, 1.26964859e-01, 3.34740517e+00,\n",
       "       2.55888570e-01, 3.05819941e+00, 1.98894303e+00, 1.44888014e-01,\n",
       "       4.12722167e-01, 7.04232152e-01, 1.29017916e+00, 2.51154794e-01,\n",
       "       2.58147259e+00, 1.42250035e+00, 2.57504682e+00, 3.90563253e-01,\n",
       "       1.25887625e-01, 1.01760133e+00, 2.91830646e-01, 1.41981734e+00,\n",
       "       5.04179632e+00, 1.32103526e+00, 2.97401612e-01, 3.26164607e+00,\n",
       "       2.78083844e+00, 3.95505922e-01, 1.55791578e+00, 1.32057978e+00,\n",
       "       8.46919429e-01, 7.40778925e-01, 3.53030701e+00, 5.79284459e-01,\n",
       "       2.01982197e-01, 7.79187075e-01, 1.03618029e-01, 7.45609052e-01,\n",
       "       2.83543648e+00, 1.57368279e+00, 1.24242271e+00, 6.40746908e-02,\n",
       "       1.32582090e+00, 1.87728618e+00, 1.04944131e+00, 3.31898047e+00,\n",
       "       7.64714897e-01, 6.73802504e+00, 2.05615890e+00, 1.53248652e+00,\n",
       "       2.29571644e-02, 1.28312660e+00, 5.92812151e-01, 2.10343508e-01,\n",
       "       1.24105332e+00, 1.45046263e+00, 1.35008161e+00, 1.04074108e-01,\n",
       "       1.83440289e+00, 1.87797123e+00, 3.72603343e+00, 1.72747718e-01,\n",
       "       4.90649169e+00, 8.35219937e-01, 1.12843914e-01, 2.47462908e+00,\n",
       "       1.82769514e+00, 2.70850547e-01, 9.82165058e-01, 3.15276416e+00,\n",
       "       4.52373487e-01, 9.97956096e-01, 5.50715762e+00, 1.22645174e+00,\n",
       "       1.48319284e+00, 3.05544829e+00, 1.93371508e+00, 4.32800447e+00,\n",
       "       4.60623709e-01, 1.71315480e+00, 1.68123371e+00, 9.71624615e-01,\n",
       "       3.70801239e-01, 3.29369446e+00, 2.30257512e+00, 4.58534017e+00,\n",
       "       9.66073770e-01, 3.28852185e+00, 9.72043167e-01, 2.29594145e+00,\n",
       "       2.67459748e+00, 2.83541080e+00, 4.27999225e-01, 7.87215045e-01,\n",
       "       2.86394016e+00, 7.84464651e+00, 1.95053960e+00, 6.21155230e-01,\n",
       "       2.35092290e-01, 1.17946246e+00, 1.51398386e+00, 5.95590307e+00,\n",
       "       3.88125483e+00, 5.79772787e-01, 1.99453460e+00, 2.11917456e+00,\n",
       "       5.59141451e+00, 7.18666042e-01, 1.04065554e+00, 2.17576496e-01,\n",
       "       2.23726202e+00, 1.75357160e+00, 4.08201070e+00, 3.68465365e+00,\n",
       "       7.05770697e+00, 1.60119420e+00, 6.23594953e+00, 1.63713979e+00,\n",
       "       2.59010806e+00, 4.27518380e-01, 1.53906127e+00, 3.82929977e+00,\n",
       "       2.87897351e+00, 9.77962401e-02, 3.74953187e+00, 1.11359928e-02,\n",
       "       3.79999755e+00, 8.47926206e+00, 3.55352764e+00, 7.93441509e-01,\n",
       "       1.08817365e+00, 2.73296732e-01, 8.98679532e-01, 2.12088422e-01,\n",
       "       5.91620595e-01, 4.12720491e+00, 3.19489566e-01, 3.16558517e+00,\n",
       "       1.64939579e-01, 3.02697580e-01, 7.10991877e-01, 1.08438116e+00,\n",
       "       3.03685306e-01, 8.58607615e+00, 7.85149752e-02, 1.87110444e-01,\n",
       "       4.59755596e-01, 1.69597164e+00, 1.37951289e+00, 4.86197362e+00,\n",
       "       1.18278240e+00, 2.57328359e-01, 5.41098328e-01, 1.23476867e+00,\n",
       "       2.99255547e-01, 4.59922218e+00, 2.46549980e-01, 1.03950688e+00,\n",
       "       3.68781763e-01, 1.34213885e+00, 4.94650663e-01, 1.18459178e+00,\n",
       "       1.55754834e+00, 1.55377567e+00, 9.86698441e-01, 3.04151638e+00,\n",
       "       4.99669258e+00, 3.80445076e-01, 2.42765753e+00, 1.09271435e+00,\n",
       "       7.26969416e-01, 1.40054308e+00, 3.02864093e-01, 1.09153686e+00,\n",
       "       8.10975549e+00, 1.85372578e+00, 2.12413726e-01, 8.89099949e-01,\n",
       "       1.08305538e+00, 1.18089264e+00, 2.39042322e+00, 2.31133380e-01,\n",
       "       5.44245877e-01, 2.04073069e+00, 4.33698377e+00, 2.74467986e+00,\n",
       "       4.34533000e+00, 9.99558598e+00, 5.04793557e-01, 8.71980885e-01,\n",
       "       1.09833067e+00, 4.54758036e-02, 3.73421603e+00, 2.61623700e-01,\n",
       "       1.53628468e+00, 2.22253423e+00, 5.48091971e-02, 4.19803380e-01,\n",
       "       2.50401812e-03, 2.97592155e+00, 2.62740599e+00, 1.30759209e+00,\n",
       "       1.58075355e+00, 8.38462493e-01, 4.14865655e-01, 2.61146410e+00,\n",
       "       6.29671194e-01, 5.47361688e-01, 2.00832614e-01, 6.23996604e-01,\n",
       "       2.63008966e-01, 6.44963828e-01, 3.72039186e+00, 3.65637422e+00,\n",
       "       1.12287263e+00, 9.33756490e-01, 1.54345555e-01, 6.94655186e-01,\n",
       "       2.81226374e-01, 7.57623411e-01, 1.24222182e-01, 1.95919261e+00,\n",
       "       7.62971409e-01, 7.44028029e-02, 7.75934726e-01, 1.02317500e+00,\n",
       "       2.08473871e-01, 1.54554787e+00, 1.10265400e+00, 7.53947595e-01,\n",
       "       4.04487555e+00, 2.38370554e+00, 1.84812000e+00, 1.59218163e+00,\n",
       "       7.33269455e-02, 4.66907137e-01, 3.70796671e-01, 2.67063852e+00,\n",
       "       7.46678039e+00, 4.90432987e+00, 1.69241683e-01, 2.12376219e+00,\n",
       "       1.39504746e+00, 2.32645354e-01, 1.38019449e+00, 1.78574850e+00,\n",
       "       1.37233707e+00, 1.89388993e+00, 3.57778241e-01, 8.74893990e-01,\n",
       "       9.40914046e-01, 4.00207760e-01, 1.11207479e+00, 4.35759507e+00,\n",
       "       2.64181623e+00, 1.23785223e-01, 2.19633347e+00, 6.75665262e-01,\n",
       "       1.65985065e+00, 4.91499230e-01, 9.10225089e-01, 5.91181330e-01,\n",
       "       3.66000011e+00, 1.69507727e-01, 1.09558812e+01, 1.00887984e-01,\n",
       "       8.45643685e-01, 2.20531533e+00, 4.09349800e+00, 7.93782936e-01,\n",
       "       1.61212847e-01, 4.90503686e+00, 2.37949360e+00, 1.95214223e+00,\n",
       "       1.05135095e+00, 6.40552412e+00, 2.29132036e-01, 1.22055970e+00,\n",
       "       8.17298674e-01, 1.96911531e+00, 6.51650445e-01, 1.57021364e+00,\n",
       "       5.45627806e-02, 5.69855328e+00, 2.50395912e+00, 2.15608164e+00,\n",
       "       7.92156496e-02, 3.31414045e+00, 8.53575134e+00, 2.73660126e-01,\n",
       "       1.30478924e+00, 1.40807996e+00, 7.22081231e-02, 2.92734309e+00,\n",
       "       6.97414590e+00, 5.74914633e-01, 4.32220279e+00, 2.43549602e+00,\n",
       "       1.39268950e+00, 7.27527166e+00, 2.19961546e+00, 1.12658298e-02,\n",
       "       2.47797426e-01, 6.81455137e-01, 7.02457668e-01, 3.31256458e+00,\n",
       "       6.10036424e-02, 1.37742162e+00, 5.68531140e-01, 1.64604103e-01,\n",
       "       3.85638350e+00, 4.10653434e-02, 1.61873781e+00, 1.72346564e+00,\n",
       "       1.82453513e+00, 6.97076572e-01, 1.83938585e+00, 6.26504529e-01,\n",
       "       8.60719394e-01, 1.10081874e+00, 2.35989592e+00, 1.74825901e+00,\n",
       "       4.14182813e-01, 1.51783714e+00, 1.95513551e-01, 2.72340634e-01,\n",
       "       3.83862196e-01, 6.77213230e+00, 4.28644860e+00, 4.04892887e-01,\n",
       "       6.81163539e+00, 3.38566298e+00, 6.62157596e-01, 3.51958397e-02,\n",
       "       2.16197786e-01, 1.39224876e+00, 4.30219022e+00, 1.06664904e+00,\n",
       "       1.46733453e+00, 2.05214873e+00, 1.23473134e-01, 5.14359698e+00,\n",
       "       2.50634032e+00, 6.73270427e+00, 4.92044570e+00, 1.12630882e+00,\n",
       "       9.86131968e-01, 1.17008728e+00, 3.62390140e+00, 1.99423441e+00,\n",
       "       6.77151040e+00, 3.97204291e+00, 1.81663835e+00, 9.27842798e+00,\n",
       "       2.50166007e-01, 1.45497102e-01, 3.94399092e+00, 8.13201022e+00,\n",
       "       6.77274844e+00, 4.79037395e+00, 2.76830327e+00, 1.65814511e+00,\n",
       "       3.16599840e+00, 1.34861120e+00, 1.79193327e+00, 3.22125885e-01])"
      ]
     },
     "execution_count": 85,
     "metadata": {},
     "output_type": "execute_result"
    }
   ],
   "source": [
    "data_exponential = np.random.exponential(scale=2, size=1000)\n",
    "data_exponential"
   ]
  },
  {
   "cell_type": "code",
   "execution_count": 86,
   "metadata": {},
   "outputs": [
    {
     "name": "stderr",
     "output_type": "stream",
     "text": [
      "/home/mosaleh/anaconda3/lib/python3.8/site-packages/seaborn/distributions.py:2551: FutureWarning: `distplot` is a deprecated function and will be removed in a future version. Please adapt your code to use either `displot` (a figure-level function with similar flexibility) or `histplot` (an axes-level function for histograms).\n",
      "  warnings.warn(msg, FutureWarning)\n"
     ]
    },
    {
     "data": {
      "text/plain": [
       "<AxesSubplot:ylabel='Density'>"
      ]
     },
     "execution_count": 86,
     "metadata": {},
     "output_type": "execute_result"
    },
    {
     "data": {
      "image/png": "[encoded data removed]",
      "text/plain": [
       "<Figure size 432x288 with 1 Axes>"
      ]
     },
     "metadata": {
      "needs_background": "light"
     },
     "output_type": "display_data"
    }
   ],
   "source": [
    "sns.distplot(data_exponential)"
   ]
  },
  {
   "cell_type": "code",
   "execution_count": 88,
   "metadata": {},
   "outputs": [
    {
     "data": {
      "text/plain": [
       "0.12"
      ]
     },
     "execution_count": 88,
     "metadata": {},
     "output_type": "execute_result"
    }
   ],
   "source": [
    "(20/100) * (60/100)"
   ]
  },
  {
   "cell_type": "code",
   "execution_count": 89,
   "metadata": {},
   "outputs": [
    {
     "data": {
      "text/plain": [
       "0.57"
      ]
     },
     "execution_count": 89,
     "metadata": {},
     "output_type": "execute_result"
    }
   ],
   "source": [
    "(95/100) * (60/100)"
   ]
  }
 ],
 "metadata": {
  "kernelspec": {
   "display_name": "Python 3",
   "language": "python",
   "name": "python3"
  },
  "language_info": {
   "codemirror_mode": {
    "name": "ipython",
    "version": 3
   },
   "file_extension": ".py",
   "mimetype": "text/x-python",
   "name": "python",
   "nbconvert_exporter": "python",
   "pygments_lexer": "ipython3",
   "version": "3.8.5"
  }
 },
 "nbformat": 4,
 "nbformat_minor": 4
}
